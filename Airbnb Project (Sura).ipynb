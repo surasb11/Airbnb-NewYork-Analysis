{
 "cells": [
  {
   "cell_type": "code",
   "execution_count": 1,
   "metadata": {},
   "outputs": [],
   "source": [
    "import pandas as pd\n",
    "import numpy as np\n",
    "from scipy import stats\n",
    "import seaborn as sns #!pip install seaborn\n",
    "import matplotlib.pyplot as plt\n",
    "import mpl_toolkits\n",
    "from mpl_toolkits.mplot3d import Axes3D"
   ]
  },
  {
   "cell_type": "code",
   "execution_count": 2,
   "metadata": {},
   "outputs": [
    {
     "data": {
      "text/html": [
       "<style  type=\"text/css\" >\n",
       "</style><table id=\"T_6b089d56_0827_11ea_91e5_086d41dd6a90\" ><thead>    <tr>        <th class=\"blank level0\" ></th>        <th class=\"col_heading level0 col0\" >id</th>        <th class=\"col_heading level0 col1\" >name</th>        <th class=\"col_heading level0 col2\" >host_id</th>        <th class=\"col_heading level0 col3\" >host_name</th>        <th class=\"col_heading level0 col4\" >neighbourhood_group</th>        <th class=\"col_heading level0 col5\" >neighbourhood</th>        <th class=\"col_heading level0 col6\" >latitude</th>        <th class=\"col_heading level0 col7\" >longitude</th>        <th class=\"col_heading level0 col8\" >room_type</th>        <th class=\"col_heading level0 col9\" >price</th>        <th class=\"col_heading level0 col10\" >minimum_nights</th>        <th class=\"col_heading level0 col11\" >number_of_reviews</th>        <th class=\"col_heading level0 col12\" >last_review</th>        <th class=\"col_heading level0 col13\" >reviews_per_month</th>        <th class=\"col_heading level0 col14\" >calculated_host_listings_count</th>        <th class=\"col_heading level0 col15\" >availability_365</th>    </tr></thead><tbody>\n",
       "                <tr>\n",
       "                        <th id=\"T_6b089d56_0827_11ea_91e5_086d41dd6a90level0_row0\" class=\"row_heading level0 row0\" >0</th>\n",
       "                        <td id=\"T_6b089d56_0827_11ea_91e5_086d41dd6a90row0_col0\" class=\"data row0 col0\" >2539</td>\n",
       "                        <td id=\"T_6b089d56_0827_11ea_91e5_086d41dd6a90row0_col1\" class=\"data row0 col1\" >Clean & quiet apt home by the park</td>\n",
       "                        <td id=\"T_6b089d56_0827_11ea_91e5_086d41dd6a90row0_col2\" class=\"data row0 col2\" >2787</td>\n",
       "                        <td id=\"T_6b089d56_0827_11ea_91e5_086d41dd6a90row0_col3\" class=\"data row0 col3\" >John</td>\n",
       "                        <td id=\"T_6b089d56_0827_11ea_91e5_086d41dd6a90row0_col4\" class=\"data row0 col4\" >Brooklyn</td>\n",
       "                        <td id=\"T_6b089d56_0827_11ea_91e5_086d41dd6a90row0_col5\" class=\"data row0 col5\" >Kensington</td>\n",
       "                        <td id=\"T_6b089d56_0827_11ea_91e5_086d41dd6a90row0_col6\" class=\"data row0 col6\" >40.6475</td>\n",
       "                        <td id=\"T_6b089d56_0827_11ea_91e5_086d41dd6a90row0_col7\" class=\"data row0 col7\" >-73.9724</td>\n",
       "                        <td id=\"T_6b089d56_0827_11ea_91e5_086d41dd6a90row0_col8\" class=\"data row0 col8\" >Private room</td>\n",
       "                        <td id=\"T_6b089d56_0827_11ea_91e5_086d41dd6a90row0_col9\" class=\"data row0 col9\" >149</td>\n",
       "                        <td id=\"T_6b089d56_0827_11ea_91e5_086d41dd6a90row0_col10\" class=\"data row0 col10\" >1</td>\n",
       "                        <td id=\"T_6b089d56_0827_11ea_91e5_086d41dd6a90row0_col11\" class=\"data row0 col11\" >9</td>\n",
       "                        <td id=\"T_6b089d56_0827_11ea_91e5_086d41dd6a90row0_col12\" class=\"data row0 col12\" >2018-10-19</td>\n",
       "                        <td id=\"T_6b089d56_0827_11ea_91e5_086d41dd6a90row0_col13\" class=\"data row0 col13\" >0.21</td>\n",
       "                        <td id=\"T_6b089d56_0827_11ea_91e5_086d41dd6a90row0_col14\" class=\"data row0 col14\" >6</td>\n",
       "                        <td id=\"T_6b089d56_0827_11ea_91e5_086d41dd6a90row0_col15\" class=\"data row0 col15\" >365</td>\n",
       "            </tr>\n",
       "            <tr>\n",
       "                        <th id=\"T_6b089d56_0827_11ea_91e5_086d41dd6a90level0_row1\" class=\"row_heading level0 row1\" >1</th>\n",
       "                        <td id=\"T_6b089d56_0827_11ea_91e5_086d41dd6a90row1_col0\" class=\"data row1 col0\" >2595</td>\n",
       "                        <td id=\"T_6b089d56_0827_11ea_91e5_086d41dd6a90row1_col1\" class=\"data row1 col1\" >Skylit Midtown Castle</td>\n",
       "                        <td id=\"T_6b089d56_0827_11ea_91e5_086d41dd6a90row1_col2\" class=\"data row1 col2\" >2845</td>\n",
       "                        <td id=\"T_6b089d56_0827_11ea_91e5_086d41dd6a90row1_col3\" class=\"data row1 col3\" >Jennifer</td>\n",
       "                        <td id=\"T_6b089d56_0827_11ea_91e5_086d41dd6a90row1_col4\" class=\"data row1 col4\" >Manhattan</td>\n",
       "                        <td id=\"T_6b089d56_0827_11ea_91e5_086d41dd6a90row1_col5\" class=\"data row1 col5\" >Midtown</td>\n",
       "                        <td id=\"T_6b089d56_0827_11ea_91e5_086d41dd6a90row1_col6\" class=\"data row1 col6\" >40.7536</td>\n",
       "                        <td id=\"T_6b089d56_0827_11ea_91e5_086d41dd6a90row1_col7\" class=\"data row1 col7\" >-73.9838</td>\n",
       "                        <td id=\"T_6b089d56_0827_11ea_91e5_086d41dd6a90row1_col8\" class=\"data row1 col8\" >Entire home/apt</td>\n",
       "                        <td id=\"T_6b089d56_0827_11ea_91e5_086d41dd6a90row1_col9\" class=\"data row1 col9\" >225</td>\n",
       "                        <td id=\"T_6b089d56_0827_11ea_91e5_086d41dd6a90row1_col10\" class=\"data row1 col10\" >1</td>\n",
       "                        <td id=\"T_6b089d56_0827_11ea_91e5_086d41dd6a90row1_col11\" class=\"data row1 col11\" >45</td>\n",
       "                        <td id=\"T_6b089d56_0827_11ea_91e5_086d41dd6a90row1_col12\" class=\"data row1 col12\" >2019-05-21</td>\n",
       "                        <td id=\"T_6b089d56_0827_11ea_91e5_086d41dd6a90row1_col13\" class=\"data row1 col13\" >0.38</td>\n",
       "                        <td id=\"T_6b089d56_0827_11ea_91e5_086d41dd6a90row1_col14\" class=\"data row1 col14\" >2</td>\n",
       "                        <td id=\"T_6b089d56_0827_11ea_91e5_086d41dd6a90row1_col15\" class=\"data row1 col15\" >355</td>\n",
       "            </tr>\n",
       "            <tr>\n",
       "                        <th id=\"T_6b089d56_0827_11ea_91e5_086d41dd6a90level0_row2\" class=\"row_heading level0 row2\" >2</th>\n",
       "                        <td id=\"T_6b089d56_0827_11ea_91e5_086d41dd6a90row2_col0\" class=\"data row2 col0\" >3647</td>\n",
       "                        <td id=\"T_6b089d56_0827_11ea_91e5_086d41dd6a90row2_col1\" class=\"data row2 col1\" >THE VILLAGE OF HARLEM....NEW YORK !</td>\n",
       "                        <td id=\"T_6b089d56_0827_11ea_91e5_086d41dd6a90row2_col2\" class=\"data row2 col2\" >4632</td>\n",
       "                        <td id=\"T_6b089d56_0827_11ea_91e5_086d41dd6a90row2_col3\" class=\"data row2 col3\" >Elisabeth</td>\n",
       "                        <td id=\"T_6b089d56_0827_11ea_91e5_086d41dd6a90row2_col4\" class=\"data row2 col4\" >Manhattan</td>\n",
       "                        <td id=\"T_6b089d56_0827_11ea_91e5_086d41dd6a90row2_col5\" class=\"data row2 col5\" >Harlem</td>\n",
       "                        <td id=\"T_6b089d56_0827_11ea_91e5_086d41dd6a90row2_col6\" class=\"data row2 col6\" >40.809</td>\n",
       "                        <td id=\"T_6b089d56_0827_11ea_91e5_086d41dd6a90row2_col7\" class=\"data row2 col7\" >-73.9419</td>\n",
       "                        <td id=\"T_6b089d56_0827_11ea_91e5_086d41dd6a90row2_col8\" class=\"data row2 col8\" >Private room</td>\n",
       "                        <td id=\"T_6b089d56_0827_11ea_91e5_086d41dd6a90row2_col9\" class=\"data row2 col9\" >150</td>\n",
       "                        <td id=\"T_6b089d56_0827_11ea_91e5_086d41dd6a90row2_col10\" class=\"data row2 col10\" >3</td>\n",
       "                        <td id=\"T_6b089d56_0827_11ea_91e5_086d41dd6a90row2_col11\" class=\"data row2 col11\" >0</td>\n",
       "                        <td id=\"T_6b089d56_0827_11ea_91e5_086d41dd6a90row2_col12\" class=\"data row2 col12\" >nan</td>\n",
       "                        <td id=\"T_6b089d56_0827_11ea_91e5_086d41dd6a90row2_col13\" class=\"data row2 col13\" >nan</td>\n",
       "                        <td id=\"T_6b089d56_0827_11ea_91e5_086d41dd6a90row2_col14\" class=\"data row2 col14\" >1</td>\n",
       "                        <td id=\"T_6b089d56_0827_11ea_91e5_086d41dd6a90row2_col15\" class=\"data row2 col15\" >365</td>\n",
       "            </tr>\n",
       "            <tr>\n",
       "                        <th id=\"T_6b089d56_0827_11ea_91e5_086d41dd6a90level0_row3\" class=\"row_heading level0 row3\" >3</th>\n",
       "                        <td id=\"T_6b089d56_0827_11ea_91e5_086d41dd6a90row3_col0\" class=\"data row3 col0\" >3831</td>\n",
       "                        <td id=\"T_6b089d56_0827_11ea_91e5_086d41dd6a90row3_col1\" class=\"data row3 col1\" >Cozy Entire Floor of Brownstone</td>\n",
       "                        <td id=\"T_6b089d56_0827_11ea_91e5_086d41dd6a90row3_col2\" class=\"data row3 col2\" >4869</td>\n",
       "                        <td id=\"T_6b089d56_0827_11ea_91e5_086d41dd6a90row3_col3\" class=\"data row3 col3\" >LisaRoxanne</td>\n",
       "                        <td id=\"T_6b089d56_0827_11ea_91e5_086d41dd6a90row3_col4\" class=\"data row3 col4\" >Brooklyn</td>\n",
       "                        <td id=\"T_6b089d56_0827_11ea_91e5_086d41dd6a90row3_col5\" class=\"data row3 col5\" >Clinton Hill</td>\n",
       "                        <td id=\"T_6b089d56_0827_11ea_91e5_086d41dd6a90row3_col6\" class=\"data row3 col6\" >40.6851</td>\n",
       "                        <td id=\"T_6b089d56_0827_11ea_91e5_086d41dd6a90row3_col7\" class=\"data row3 col7\" >-73.9598</td>\n",
       "                        <td id=\"T_6b089d56_0827_11ea_91e5_086d41dd6a90row3_col8\" class=\"data row3 col8\" >Entire home/apt</td>\n",
       "                        <td id=\"T_6b089d56_0827_11ea_91e5_086d41dd6a90row3_col9\" class=\"data row3 col9\" >89</td>\n",
       "                        <td id=\"T_6b089d56_0827_11ea_91e5_086d41dd6a90row3_col10\" class=\"data row3 col10\" >1</td>\n",
       "                        <td id=\"T_6b089d56_0827_11ea_91e5_086d41dd6a90row3_col11\" class=\"data row3 col11\" >270</td>\n",
       "                        <td id=\"T_6b089d56_0827_11ea_91e5_086d41dd6a90row3_col12\" class=\"data row3 col12\" >2019-07-05</td>\n",
       "                        <td id=\"T_6b089d56_0827_11ea_91e5_086d41dd6a90row3_col13\" class=\"data row3 col13\" >4.64</td>\n",
       "                        <td id=\"T_6b089d56_0827_11ea_91e5_086d41dd6a90row3_col14\" class=\"data row3 col14\" >1</td>\n",
       "                        <td id=\"T_6b089d56_0827_11ea_91e5_086d41dd6a90row3_col15\" class=\"data row3 col15\" >194</td>\n",
       "            </tr>\n",
       "            <tr>\n",
       "                        <th id=\"T_6b089d56_0827_11ea_91e5_086d41dd6a90level0_row4\" class=\"row_heading level0 row4\" >4</th>\n",
       "                        <td id=\"T_6b089d56_0827_11ea_91e5_086d41dd6a90row4_col0\" class=\"data row4 col0\" >5022</td>\n",
       "                        <td id=\"T_6b089d56_0827_11ea_91e5_086d41dd6a90row4_col1\" class=\"data row4 col1\" >Entire Apt: Spacious Studio/Loft by central park</td>\n",
       "                        <td id=\"T_6b089d56_0827_11ea_91e5_086d41dd6a90row4_col2\" class=\"data row4 col2\" >7192</td>\n",
       "                        <td id=\"T_6b089d56_0827_11ea_91e5_086d41dd6a90row4_col3\" class=\"data row4 col3\" >Laura</td>\n",
       "                        <td id=\"T_6b089d56_0827_11ea_91e5_086d41dd6a90row4_col4\" class=\"data row4 col4\" >Manhattan</td>\n",
       "                        <td id=\"T_6b089d56_0827_11ea_91e5_086d41dd6a90row4_col5\" class=\"data row4 col5\" >East Harlem</td>\n",
       "                        <td id=\"T_6b089d56_0827_11ea_91e5_086d41dd6a90row4_col6\" class=\"data row4 col6\" >40.7985</td>\n",
       "                        <td id=\"T_6b089d56_0827_11ea_91e5_086d41dd6a90row4_col7\" class=\"data row4 col7\" >-73.944</td>\n",
       "                        <td id=\"T_6b089d56_0827_11ea_91e5_086d41dd6a90row4_col8\" class=\"data row4 col8\" >Entire home/apt</td>\n",
       "                        <td id=\"T_6b089d56_0827_11ea_91e5_086d41dd6a90row4_col9\" class=\"data row4 col9\" >80</td>\n",
       "                        <td id=\"T_6b089d56_0827_11ea_91e5_086d41dd6a90row4_col10\" class=\"data row4 col10\" >10</td>\n",
       "                        <td id=\"T_6b089d56_0827_11ea_91e5_086d41dd6a90row4_col11\" class=\"data row4 col11\" >9</td>\n",
       "                        <td id=\"T_6b089d56_0827_11ea_91e5_086d41dd6a90row4_col12\" class=\"data row4 col12\" >2018-11-19</td>\n",
       "                        <td id=\"T_6b089d56_0827_11ea_91e5_086d41dd6a90row4_col13\" class=\"data row4 col13\" >0.1</td>\n",
       "                        <td id=\"T_6b089d56_0827_11ea_91e5_086d41dd6a90row4_col14\" class=\"data row4 col14\" >1</td>\n",
       "                        <td id=\"T_6b089d56_0827_11ea_91e5_086d41dd6a90row4_col15\" class=\"data row4 col15\" >0</td>\n",
       "            </tr>\n",
       "    </tbody></table>"
      ],
      "text/plain": [
       "<pandas.io.formats.style.Styler at 0x11a27c190>"
      ]
     },
     "execution_count": 2,
     "metadata": {},
     "output_type": "execute_result"
    }
   ],
   "source": [
    "# Create a reference to the CSV and import it into a Pandas DataFrame\n",
    "nyc_airbnb_data = \"my_data.csv\"\n",
    "nyc_airbnb_df = pd.read_csv(nyc_airbnb_data)\n",
    "nyc_airbnb_df.head().style"
   ]
  },
  {
   "cell_type": "code",
   "execution_count": 3,
   "metadata": {},
   "outputs": [
    {
     "data": {
      "text/html": [
       "<div>\n",
       "<style scoped>\n",
       "    .dataframe tbody tr th:only-of-type {\n",
       "        vertical-align: middle;\n",
       "    }\n",
       "\n",
       "    .dataframe tbody tr th {\n",
       "        vertical-align: top;\n",
       "    }\n",
       "\n",
       "    .dataframe thead th {\n",
       "        text-align: right;\n",
       "    }\n",
       "</style>\n",
       "<table border=\"1\" class=\"dataframe\">\n",
       "  <thead>\n",
       "    <tr style=\"text-align: right;\">\n",
       "      <th></th>\n",
       "      <th>name</th>\n",
       "      <th>neighbourhood_group</th>\n",
       "      <th>neighbourhood</th>\n",
       "      <th>room_type</th>\n",
       "      <th>price</th>\n",
       "      <th>minimum_nights</th>\n",
       "      <th>availability_365</th>\n",
       "      <th>id</th>\n",
       "    </tr>\n",
       "  </thead>\n",
       "  <tbody>\n",
       "    <tr>\n",
       "      <td>0</td>\n",
       "      <td>Clean &amp; quiet apt home by the park</td>\n",
       "      <td>Brooklyn</td>\n",
       "      <td>Kensington</td>\n",
       "      <td>Private room</td>\n",
       "      <td>149</td>\n",
       "      <td>1</td>\n",
       "      <td>365</td>\n",
       "      <td>2539</td>\n",
       "    </tr>\n",
       "    <tr>\n",
       "      <td>1</td>\n",
       "      <td>Skylit Midtown Castle</td>\n",
       "      <td>Manhattan</td>\n",
       "      <td>Midtown</td>\n",
       "      <td>Entire home/apt</td>\n",
       "      <td>225</td>\n",
       "      <td>1</td>\n",
       "      <td>355</td>\n",
       "      <td>2595</td>\n",
       "    </tr>\n",
       "    <tr>\n",
       "      <td>2</td>\n",
       "      <td>THE VILLAGE OF HARLEM....NEW YORK !</td>\n",
       "      <td>Manhattan</td>\n",
       "      <td>Harlem</td>\n",
       "      <td>Private room</td>\n",
       "      <td>150</td>\n",
       "      <td>3</td>\n",
       "      <td>365</td>\n",
       "      <td>3647</td>\n",
       "    </tr>\n",
       "    <tr>\n",
       "      <td>3</td>\n",
       "      <td>Cozy Entire Floor of Brownstone</td>\n",
       "      <td>Brooklyn</td>\n",
       "      <td>Clinton Hill</td>\n",
       "      <td>Entire home/apt</td>\n",
       "      <td>89</td>\n",
       "      <td>1</td>\n",
       "      <td>194</td>\n",
       "      <td>3831</td>\n",
       "    </tr>\n",
       "    <tr>\n",
       "      <td>4</td>\n",
       "      <td>Entire Apt: Spacious Studio/Loft by central park</td>\n",
       "      <td>Manhattan</td>\n",
       "      <td>East Harlem</td>\n",
       "      <td>Entire home/apt</td>\n",
       "      <td>80</td>\n",
       "      <td>10</td>\n",
       "      <td>0</td>\n",
       "      <td>5022</td>\n",
       "    </tr>\n",
       "  </tbody>\n",
       "</table>\n",
       "</div>"
      ],
      "text/plain": [
       "                                               name neighbourhood_group  \\\n",
       "0                Clean & quiet apt home by the park            Brooklyn   \n",
       "1                             Skylit Midtown Castle           Manhattan   \n",
       "2               THE VILLAGE OF HARLEM....NEW YORK !           Manhattan   \n",
       "3                   Cozy Entire Floor of Brownstone            Brooklyn   \n",
       "4  Entire Apt: Spacious Studio/Loft by central park           Manhattan   \n",
       "\n",
       "  neighbourhood        room_type  price  minimum_nights  availability_365  \\\n",
       "0    Kensington     Private room    149               1               365   \n",
       "1       Midtown  Entire home/apt    225               1               355   \n",
       "2        Harlem     Private room    150               3               365   \n",
       "3  Clinton Hill  Entire home/apt     89               1               194   \n",
       "4   East Harlem  Entire home/apt     80              10                 0   \n",
       "\n",
       "     id  \n",
       "0  2539  \n",
       "1  2595  \n",
       "2  3647  \n",
       "3  3831  \n",
       "4  5022  "
      ]
     },
     "execution_count": 3,
     "metadata": {},
     "output_type": "execute_result"
    }
   ],
   "source": [
    "# Create DataFrama\n",
    "nyc_airbnb = nyc_airbnb_df[[\"name\", \"neighbourhood_group\", \"neighbourhood\", \"room_type\", \"price\", \n",
    "                            \"minimum_nights\", \"availability_365\", \"id\"]]\n",
    "nyc_airbnb.head()"
   ]
  },
  {
   "cell_type": "code",
   "execution_count": 4,
   "metadata": {},
   "outputs": [
    {
     "data": {
      "text/html": [
       "<style  type=\"text/css\" >\n",
       "</style><table id=\"T_6b131790_0827_11ea_91e5_086d41dd6a90\" ><thead>    <tr>        <th class=\"blank level0\" ></th>        <th class=\"col_heading level0 col0\" >Name</th>        <th class=\"col_heading level0 col1\" >Cities</th>        <th class=\"col_heading level0 col2\" >Neighbourhood</th>        <th class=\"col_heading level0 col3\" >Room Type</th>        <th class=\"col_heading level0 col4\" >Price</th>        <th class=\"col_heading level0 col5\" >Minimum Nights</th>        <th class=\"col_heading level0 col6\" >Yearly Availability</th>        <th class=\"col_heading level0 col7\" >ID</th>    </tr></thead><tbody>\n",
       "                <tr>\n",
       "                        <th id=\"T_6b131790_0827_11ea_91e5_086d41dd6a90level0_row0\" class=\"row_heading level0 row0\" >0</th>\n",
       "                        <td id=\"T_6b131790_0827_11ea_91e5_086d41dd6a90row0_col0\" class=\"data row0 col0\" >Clean & quiet apt home by the park</td>\n",
       "                        <td id=\"T_6b131790_0827_11ea_91e5_086d41dd6a90row0_col1\" class=\"data row0 col1\" >Brooklyn</td>\n",
       "                        <td id=\"T_6b131790_0827_11ea_91e5_086d41dd6a90row0_col2\" class=\"data row0 col2\" >Kensington</td>\n",
       "                        <td id=\"T_6b131790_0827_11ea_91e5_086d41dd6a90row0_col3\" class=\"data row0 col3\" >Private room</td>\n",
       "                        <td id=\"T_6b131790_0827_11ea_91e5_086d41dd6a90row0_col4\" class=\"data row0 col4\" >149</td>\n",
       "                        <td id=\"T_6b131790_0827_11ea_91e5_086d41dd6a90row0_col5\" class=\"data row0 col5\" >1</td>\n",
       "                        <td id=\"T_6b131790_0827_11ea_91e5_086d41dd6a90row0_col6\" class=\"data row0 col6\" >365</td>\n",
       "                        <td id=\"T_6b131790_0827_11ea_91e5_086d41dd6a90row0_col7\" class=\"data row0 col7\" >2539</td>\n",
       "            </tr>\n",
       "            <tr>\n",
       "                        <th id=\"T_6b131790_0827_11ea_91e5_086d41dd6a90level0_row1\" class=\"row_heading level0 row1\" >1</th>\n",
       "                        <td id=\"T_6b131790_0827_11ea_91e5_086d41dd6a90row1_col0\" class=\"data row1 col0\" >Skylit Midtown Castle</td>\n",
       "                        <td id=\"T_6b131790_0827_11ea_91e5_086d41dd6a90row1_col1\" class=\"data row1 col1\" >Manhattan</td>\n",
       "                        <td id=\"T_6b131790_0827_11ea_91e5_086d41dd6a90row1_col2\" class=\"data row1 col2\" >Midtown</td>\n",
       "                        <td id=\"T_6b131790_0827_11ea_91e5_086d41dd6a90row1_col3\" class=\"data row1 col3\" >Entire home/apt</td>\n",
       "                        <td id=\"T_6b131790_0827_11ea_91e5_086d41dd6a90row1_col4\" class=\"data row1 col4\" >225</td>\n",
       "                        <td id=\"T_6b131790_0827_11ea_91e5_086d41dd6a90row1_col5\" class=\"data row1 col5\" >1</td>\n",
       "                        <td id=\"T_6b131790_0827_11ea_91e5_086d41dd6a90row1_col6\" class=\"data row1 col6\" >355</td>\n",
       "                        <td id=\"T_6b131790_0827_11ea_91e5_086d41dd6a90row1_col7\" class=\"data row1 col7\" >2595</td>\n",
       "            </tr>\n",
       "            <tr>\n",
       "                        <th id=\"T_6b131790_0827_11ea_91e5_086d41dd6a90level0_row2\" class=\"row_heading level0 row2\" >2</th>\n",
       "                        <td id=\"T_6b131790_0827_11ea_91e5_086d41dd6a90row2_col0\" class=\"data row2 col0\" >THE VILLAGE OF HARLEM....NEW YORK !</td>\n",
       "                        <td id=\"T_6b131790_0827_11ea_91e5_086d41dd6a90row2_col1\" class=\"data row2 col1\" >Manhattan</td>\n",
       "                        <td id=\"T_6b131790_0827_11ea_91e5_086d41dd6a90row2_col2\" class=\"data row2 col2\" >Harlem</td>\n",
       "                        <td id=\"T_6b131790_0827_11ea_91e5_086d41dd6a90row2_col3\" class=\"data row2 col3\" >Private room</td>\n",
       "                        <td id=\"T_6b131790_0827_11ea_91e5_086d41dd6a90row2_col4\" class=\"data row2 col4\" >150</td>\n",
       "                        <td id=\"T_6b131790_0827_11ea_91e5_086d41dd6a90row2_col5\" class=\"data row2 col5\" >3</td>\n",
       "                        <td id=\"T_6b131790_0827_11ea_91e5_086d41dd6a90row2_col6\" class=\"data row2 col6\" >365</td>\n",
       "                        <td id=\"T_6b131790_0827_11ea_91e5_086d41dd6a90row2_col7\" class=\"data row2 col7\" >3647</td>\n",
       "            </tr>\n",
       "            <tr>\n",
       "                        <th id=\"T_6b131790_0827_11ea_91e5_086d41dd6a90level0_row3\" class=\"row_heading level0 row3\" >3</th>\n",
       "                        <td id=\"T_6b131790_0827_11ea_91e5_086d41dd6a90row3_col0\" class=\"data row3 col0\" >Cozy Entire Floor of Brownstone</td>\n",
       "                        <td id=\"T_6b131790_0827_11ea_91e5_086d41dd6a90row3_col1\" class=\"data row3 col1\" >Brooklyn</td>\n",
       "                        <td id=\"T_6b131790_0827_11ea_91e5_086d41dd6a90row3_col2\" class=\"data row3 col2\" >Clinton Hill</td>\n",
       "                        <td id=\"T_6b131790_0827_11ea_91e5_086d41dd6a90row3_col3\" class=\"data row3 col3\" >Entire home/apt</td>\n",
       "                        <td id=\"T_6b131790_0827_11ea_91e5_086d41dd6a90row3_col4\" class=\"data row3 col4\" >89</td>\n",
       "                        <td id=\"T_6b131790_0827_11ea_91e5_086d41dd6a90row3_col5\" class=\"data row3 col5\" >1</td>\n",
       "                        <td id=\"T_6b131790_0827_11ea_91e5_086d41dd6a90row3_col6\" class=\"data row3 col6\" >194</td>\n",
       "                        <td id=\"T_6b131790_0827_11ea_91e5_086d41dd6a90row3_col7\" class=\"data row3 col7\" >3831</td>\n",
       "            </tr>\n",
       "            <tr>\n",
       "                        <th id=\"T_6b131790_0827_11ea_91e5_086d41dd6a90level0_row4\" class=\"row_heading level0 row4\" >4</th>\n",
       "                        <td id=\"T_6b131790_0827_11ea_91e5_086d41dd6a90row4_col0\" class=\"data row4 col0\" >Entire Apt: Spacious Studio/Loft by central park</td>\n",
       "                        <td id=\"T_6b131790_0827_11ea_91e5_086d41dd6a90row4_col1\" class=\"data row4 col1\" >Manhattan</td>\n",
       "                        <td id=\"T_6b131790_0827_11ea_91e5_086d41dd6a90row4_col2\" class=\"data row4 col2\" >East Harlem</td>\n",
       "                        <td id=\"T_6b131790_0827_11ea_91e5_086d41dd6a90row4_col3\" class=\"data row4 col3\" >Entire home/apt</td>\n",
       "                        <td id=\"T_6b131790_0827_11ea_91e5_086d41dd6a90row4_col4\" class=\"data row4 col4\" >80</td>\n",
       "                        <td id=\"T_6b131790_0827_11ea_91e5_086d41dd6a90row4_col5\" class=\"data row4 col5\" >10</td>\n",
       "                        <td id=\"T_6b131790_0827_11ea_91e5_086d41dd6a90row4_col6\" class=\"data row4 col6\" >0</td>\n",
       "                        <td id=\"T_6b131790_0827_11ea_91e5_086d41dd6a90row4_col7\" class=\"data row4 col7\" >5022</td>\n",
       "            </tr>\n",
       "    </tbody></table>"
      ],
      "text/plain": [
       "<pandas.io.formats.style.Styler at 0x110a3d810>"
      ]
     },
     "execution_count": 4,
     "metadata": {},
     "output_type": "execute_result"
    }
   ],
   "source": [
    "# Rename columns\n",
    "nyc_airbnb = nyc_airbnb.rename(columns={\"name\": \"Name\",\n",
    "                                        \"neighbourhood_group\": \"Cities\",\n",
    "                                        \"neighbourhood\": \"Neighbourhood\",\n",
    "                                        \"room_type\": \"Room Type\",\n",
    "                                        \"price\": \"Price\",\n",
    "                                        \"minimum_nights\": \"Minimum Nights\",\n",
    "                                        \"availability_365\": \"Yearly Availability\",\n",
    "                                        \"id\": \"ID\"})\n",
    "\n",
    "nyc_airbnb.head().style"
   ]
  },
  {
   "cell_type": "code",
   "execution_count": 5,
   "metadata": {},
   "outputs": [
    {
     "data": {
      "text/html": [
       "<style  type=\"text/css\" >\n",
       "</style><table id=\"T_6b1c5472_0827_11ea_91e5_086d41dd6a90\" ><thead>    <tr>        <th class=\"blank level0\" ></th>        <th class=\"col_heading level0 col0\" >Room Type</th>        <th class=\"col_heading level0 col1\" >Price</th>    </tr></thead><tbody>\n",
       "                <tr>\n",
       "                        <th id=\"T_6b1c5472_0827_11ea_91e5_086d41dd6a90level0_row0\" class=\"row_heading level0 row0\" >0</th>\n",
       "                        <td id=\"T_6b1c5472_0827_11ea_91e5_086d41dd6a90row0_col0\" class=\"data row0 col0\" >Entire home/apt</td>\n",
       "                        <td id=\"T_6b1c5472_0827_11ea_91e5_086d41dd6a90row0_col1\" class=\"data row0 col1\" >$211.79</td>\n",
       "            </tr>\n",
       "            <tr>\n",
       "                        <th id=\"T_6b1c5472_0827_11ea_91e5_086d41dd6a90level0_row1\" class=\"row_heading level0 row1\" >1</th>\n",
       "                        <td id=\"T_6b1c5472_0827_11ea_91e5_086d41dd6a90row1_col0\" class=\"data row1 col0\" >Private room</td>\n",
       "                        <td id=\"T_6b1c5472_0827_11ea_91e5_086d41dd6a90row1_col1\" class=\"data row1 col1\" >$89.78</td>\n",
       "            </tr>\n",
       "            <tr>\n",
       "                        <th id=\"T_6b1c5472_0827_11ea_91e5_086d41dd6a90level0_row2\" class=\"row_heading level0 row2\" >2</th>\n",
       "                        <td id=\"T_6b1c5472_0827_11ea_91e5_086d41dd6a90row2_col0\" class=\"data row2 col0\" >Shared room</td>\n",
       "                        <td id=\"T_6b1c5472_0827_11ea_91e5_086d41dd6a90row2_col1\" class=\"data row2 col1\" >$70.13</td>\n",
       "            </tr>\n",
       "    </tbody></table>"
      ],
      "text/plain": [
       "<pandas.io.formats.style.Styler at 0x110a3d250>"
      ]
     },
     "execution_count": 5,
     "metadata": {},
     "output_type": "execute_result"
    }
   ],
   "source": [
    "# Groupby room type by Price average\n",
    "mean_price_of_rooms = nyc_airbnb.groupby([\"Room Type\"],as_index=False)\n",
    "\n",
    "# Create DataFrame\n",
    "avrg_price = pd.DataFrame(mean_price_of_rooms[\"Price\"].mean())\n",
    "\n",
    "# Formating currency\n",
    "avrg_price[\"Price\"] = avrg_price[\"Price\"].astype(float).map(\"${:,.2f}\".format)\n",
    "#pivot = avrg_price.pivot()\n",
    "\n",
    "avrg_price.style"
   ]
  },
  {
   "cell_type": "code",
   "execution_count": 6,
   "metadata": {},
   "outputs": [
    {
     "data": {
      "text/html": [
       "<style  type=\"text/css\" >\n",
       "</style><table id=\"T_6b268302_0827_11ea_91e5_086d41dd6a90\" ><thead>    <tr>        <th class=\"blank level0\" ></th>        <th class=\"col_heading level0 col0\" >Total Rooms</th>        <th class=\"col_heading level0 col1\" >Per of Room Type</th>    </tr>    <tr>        <th class=\"index_name level0\" >Room Type</th>        <th class=\"blank\" ></th>        <th class=\"blank\" ></th>    </tr></thead><tbody>\n",
       "                <tr>\n",
       "                        <th id=\"T_6b268302_0827_11ea_91e5_086d41dd6a90level0_row0\" class=\"row_heading level0 row0\" >Entire home/apt</th>\n",
       "                        <td id=\"T_6b268302_0827_11ea_91e5_086d41dd6a90row0_col0\" class=\"data row0 col0\" >25409</td>\n",
       "                        <td id=\"T_6b268302_0827_11ea_91e5_086d41dd6a90row0_col1\" class=\"data row0 col1\" >51.97%</td>\n",
       "            </tr>\n",
       "            <tr>\n",
       "                        <th id=\"T_6b268302_0827_11ea_91e5_086d41dd6a90level0_row1\" class=\"row_heading level0 row1\" >Private room</th>\n",
       "                        <td id=\"T_6b268302_0827_11ea_91e5_086d41dd6a90row1_col0\" class=\"data row1 col0\" >22326</td>\n",
       "                        <td id=\"T_6b268302_0827_11ea_91e5_086d41dd6a90row1_col1\" class=\"data row1 col1\" >45.66%</td>\n",
       "            </tr>\n",
       "            <tr>\n",
       "                        <th id=\"T_6b268302_0827_11ea_91e5_086d41dd6a90level0_row2\" class=\"row_heading level0 row2\" >Shared room</th>\n",
       "                        <td id=\"T_6b268302_0827_11ea_91e5_086d41dd6a90row2_col0\" class=\"data row2 col0\" >1160</td>\n",
       "                        <td id=\"T_6b268302_0827_11ea_91e5_086d41dd6a90row2_col1\" class=\"data row2 col1\" >2.37%</td>\n",
       "            </tr>\n",
       "    </tbody></table>"
      ],
      "text/plain": [
       "<pandas.io.formats.style.Styler at 0x111485710>"
      ]
     },
     "execution_count": 6,
     "metadata": {},
     "output_type": "execute_result"
    }
   ],
   "source": [
    "# Create Data Frame: Total Rooms and Percentage showing which rooms we have more\n",
    "room_categ = pd.DataFrame({\"Total Rooms\" : nyc_airbnb[\"Room Type\"].value_counts(),\n",
    "                           \"Per of Room Type\" : nyc_airbnb[\"Room Type\"].value_counts()/nyc_airbnb[\"Room Type\"].count()/1})\n",
    "\n",
    "\n",
    "# Set Index and Index name\n",
    "index = [\"Entire home/apt\", \"Private room\", \"Shared room\"]\n",
    "room_categ.index.name = \"Room Type\"\n",
    "\n",
    "# Format with percentage and currency style\n",
    "room_categ[\"Per of Room Type\"] = room_categ[\"Per of Room Type\"].astype(float).map(\"{:.2%}\".format)\n",
    "room_categ.style"
   ]
  },
  {
   "cell_type": "code",
   "execution_count": 7,
   "metadata": {},
   "outputs": [
    {
     "data": {
      "text/html": [
       "<style  type=\"text/css\" >\n",
       "</style><table id=\"T_6b2bd0aa_0827_11ea_91e5_086d41dd6a90\" ><thead>    <tr>        <th class=\"blank level0\" ></th>        <th class=\"col_heading level0 col0\" >Cities</th>        <th class=\"col_heading level0 col1\" >Price</th>    </tr></thead><tbody>\n",
       "                <tr>\n",
       "                        <th id=\"T_6b2bd0aa_0827_11ea_91e5_086d41dd6a90level0_row0\" class=\"row_heading level0 row0\" >0</th>\n",
       "                        <td id=\"T_6b2bd0aa_0827_11ea_91e5_086d41dd6a90row0_col0\" class=\"data row0 col0\" >Bronx</td>\n",
       "                        <td id=\"T_6b2bd0aa_0827_11ea_91e5_086d41dd6a90row0_col1\" class=\"data row0 col1\" >$87.50</td>\n",
       "            </tr>\n",
       "            <tr>\n",
       "                        <th id=\"T_6b2bd0aa_0827_11ea_91e5_086d41dd6a90level0_row1\" class=\"row_heading level0 row1\" >1</th>\n",
       "                        <td id=\"T_6b2bd0aa_0827_11ea_91e5_086d41dd6a90row1_col0\" class=\"data row1 col0\" >Brooklyn</td>\n",
       "                        <td id=\"T_6b2bd0aa_0827_11ea_91e5_086d41dd6a90row1_col1\" class=\"data row1 col1\" >$124.38</td>\n",
       "            </tr>\n",
       "            <tr>\n",
       "                        <th id=\"T_6b2bd0aa_0827_11ea_91e5_086d41dd6a90level0_row2\" class=\"row_heading level0 row2\" >2</th>\n",
       "                        <td id=\"T_6b2bd0aa_0827_11ea_91e5_086d41dd6a90row2_col0\" class=\"data row2 col0\" >Manhattan</td>\n",
       "                        <td id=\"T_6b2bd0aa_0827_11ea_91e5_086d41dd6a90row2_col1\" class=\"data row2 col1\" >$196.88</td>\n",
       "            </tr>\n",
       "            <tr>\n",
       "                        <th id=\"T_6b2bd0aa_0827_11ea_91e5_086d41dd6a90level0_row3\" class=\"row_heading level0 row3\" >3</th>\n",
       "                        <td id=\"T_6b2bd0aa_0827_11ea_91e5_086d41dd6a90row3_col0\" class=\"data row3 col0\" >Queens</td>\n",
       "                        <td id=\"T_6b2bd0aa_0827_11ea_91e5_086d41dd6a90row3_col1\" class=\"data row3 col1\" >$99.52</td>\n",
       "            </tr>\n",
       "            <tr>\n",
       "                        <th id=\"T_6b2bd0aa_0827_11ea_91e5_086d41dd6a90level0_row4\" class=\"row_heading level0 row4\" >4</th>\n",
       "                        <td id=\"T_6b2bd0aa_0827_11ea_91e5_086d41dd6a90row4_col0\" class=\"data row4 col0\" >Staten Island</td>\n",
       "                        <td id=\"T_6b2bd0aa_0827_11ea_91e5_086d41dd6a90row4_col1\" class=\"data row4 col1\" >$114.81</td>\n",
       "            </tr>\n",
       "    </tbody></table>"
      ],
      "text/plain": [
       "<pandas.io.formats.style.Styler at 0x110a4b590>"
      ]
     },
     "execution_count": 7,
     "metadata": {},
     "output_type": "execute_result"
    }
   ],
   "source": [
    "# Group by Cities\n",
    "group_city = nyc_airbnb.groupby([\"Cities\"],as_index=False)\n",
    "\n",
    "# Create Data Frame by Price\n",
    "city_avrg_prices = pd.DataFrame(group_city[\"Price\"].mean())\n",
    "\n",
    "# Create formating currency for Price column\n",
    "city_avrg_prices[\"Price\"] = city_avrg_prices[\"Price\"].astype(float).map(\"${:,.2f}\".format)\n",
    "\n",
    "# Show Data Frame by style (bold index)\n",
    "city_avrg_prices.style"
   ]
  },
  {
   "cell_type": "code",
   "execution_count": 8,
   "metadata": {},
   "outputs": [
    {
     "name": "stdout",
     "output_type": "stream",
     "text": [
      "Room Category:\n",
      "-----------------\n"
     ]
    },
    {
     "data": {
      "text/html": [
       "<div>\n",
       "<style scoped>\n",
       "    .dataframe tbody tr th:only-of-type {\n",
       "        vertical-align: middle;\n",
       "    }\n",
       "\n",
       "    .dataframe tbody tr th {\n",
       "        vertical-align: top;\n",
       "    }\n",
       "\n",
       "    .dataframe thead th {\n",
       "        text-align: right;\n",
       "    }\n",
       "</style>\n",
       "<table border=\"1\" class=\"dataframe\">\n",
       "  <thead>\n",
       "    <tr style=\"text-align: right;\">\n",
       "      <th></th>\n",
       "      <th>Total Rooms</th>\n",
       "      <th>Per of Room Type</th>\n",
       "    </tr>\n",
       "    <tr>\n",
       "      <th>Room Type</th>\n",
       "      <th></th>\n",
       "      <th></th>\n",
       "    </tr>\n",
       "  </thead>\n",
       "  <tbody>\n",
       "    <tr>\n",
       "      <td>Entire home/apt</td>\n",
       "      <td>25409</td>\n",
       "      <td>51.97%</td>\n",
       "    </tr>\n",
       "    <tr>\n",
       "      <td>Private room</td>\n",
       "      <td>22326</td>\n",
       "      <td>45.66%</td>\n",
       "    </tr>\n",
       "    <tr>\n",
       "      <td>Shared room</td>\n",
       "      <td>1160</td>\n",
       "      <td>2.37%</td>\n",
       "    </tr>\n",
       "  </tbody>\n",
       "</table>\n",
       "</div>"
      ],
      "text/plain": [
       "                 Total Rooms Per of Room Type\n",
       "Room Type                                    \n",
       "Entire home/apt        25409           51.97%\n",
       "Private room           22326           45.66%\n",
       "Shared room             1160            2.37%"
      ]
     },
     "metadata": {},
     "output_type": "display_data"
    },
    {
     "name": "stdout",
     "output_type": "stream",
     "text": [
      "Avarage Price:\n",
      "-----------------\n"
     ]
    },
    {
     "data": {
      "text/html": [
       "<div>\n",
       "<style scoped>\n",
       "    .dataframe tbody tr th:only-of-type {\n",
       "        vertical-align: middle;\n",
       "    }\n",
       "\n",
       "    .dataframe tbody tr th {\n",
       "        vertical-align: top;\n",
       "    }\n",
       "\n",
       "    .dataframe thead th {\n",
       "        text-align: right;\n",
       "    }\n",
       "</style>\n",
       "<table border=\"1\" class=\"dataframe\">\n",
       "  <thead>\n",
       "    <tr style=\"text-align: right;\">\n",
       "      <th></th>\n",
       "      <th>Room Type</th>\n",
       "      <th>Price</th>\n",
       "    </tr>\n",
       "  </thead>\n",
       "  <tbody>\n",
       "    <tr>\n",
       "      <td>0</td>\n",
       "      <td>Entire home/apt</td>\n",
       "      <td>$211.79</td>\n",
       "    </tr>\n",
       "    <tr>\n",
       "      <td>1</td>\n",
       "      <td>Private room</td>\n",
       "      <td>$89.78</td>\n",
       "    </tr>\n",
       "    <tr>\n",
       "      <td>2</td>\n",
       "      <td>Shared room</td>\n",
       "      <td>$70.13</td>\n",
       "    </tr>\n",
       "  </tbody>\n",
       "</table>\n",
       "</div>"
      ],
      "text/plain": [
       "         Room Type    Price\n",
       "0  Entire home/apt  $211.79\n",
       "1     Private room   $89.78\n",
       "2      Shared room   $70.13"
      ]
     },
     "metadata": {},
     "output_type": "display_data"
    },
    {
     "name": "stdout",
     "output_type": "stream",
     "text": [
      "Cities:\n",
      "-----------------\n"
     ]
    },
    {
     "data": {
      "text/html": [
       "<div>\n",
       "<style scoped>\n",
       "    .dataframe tbody tr th:only-of-type {\n",
       "        vertical-align: middle;\n",
       "    }\n",
       "\n",
       "    .dataframe tbody tr th {\n",
       "        vertical-align: top;\n",
       "    }\n",
       "\n",
       "    .dataframe thead th {\n",
       "        text-align: right;\n",
       "    }\n",
       "</style>\n",
       "<table border=\"1\" class=\"dataframe\">\n",
       "  <thead>\n",
       "    <tr style=\"text-align: right;\">\n",
       "      <th></th>\n",
       "      <th>Cities</th>\n",
       "      <th>Price</th>\n",
       "    </tr>\n",
       "  </thead>\n",
       "  <tbody>\n",
       "    <tr>\n",
       "      <td>0</td>\n",
       "      <td>Bronx</td>\n",
       "      <td>$87.50</td>\n",
       "    </tr>\n",
       "    <tr>\n",
       "      <td>1</td>\n",
       "      <td>Brooklyn</td>\n",
       "      <td>$124.38</td>\n",
       "    </tr>\n",
       "    <tr>\n",
       "      <td>2</td>\n",
       "      <td>Manhattan</td>\n",
       "      <td>$196.88</td>\n",
       "    </tr>\n",
       "    <tr>\n",
       "      <td>3</td>\n",
       "      <td>Queens</td>\n",
       "      <td>$99.52</td>\n",
       "    </tr>\n",
       "    <tr>\n",
       "      <td>4</td>\n",
       "      <td>Staten Island</td>\n",
       "      <td>$114.81</td>\n",
       "    </tr>\n",
       "  </tbody>\n",
       "</table>\n",
       "</div>"
      ],
      "text/plain": [
       "          Cities    Price\n",
       "0          Bronx   $87.50\n",
       "1       Brooklyn  $124.38\n",
       "2      Manhattan  $196.88\n",
       "3         Queens   $99.52\n",
       "4  Staten Island  $114.81"
      ]
     },
     "metadata": {},
     "output_type": "display_data"
    }
   ],
   "source": [
    "# Print both datas inside the window for preview\n",
    "pd.set_option(\"display.max_rows\", None)\n",
    "print (\"Room Category:\")\n",
    "print (\"-----------------\")\n",
    "display(room_categ)\n",
    "print (\"Avarage Price:\")\n",
    "print (\"-----------------\")\n",
    "display(avrg_price)\n",
    "print (\"Cities:\")\n",
    "print (\"-----------------\")\n",
    "display(city_avrg_prices)"
   ]
  },
  {
   "cell_type": "code",
   "execution_count": 9,
   "metadata": {},
   "outputs": [
    {
     "data": {
      "text/html": [
       "<style  type=\"text/css\" >\n",
       "</style><table id=\"T_6b3ae5c2_0827_11ea_91e5_086d41dd6a90\" ><thead>    <tr>        <th class=\"blank level0\" ></th>        <th class=\"col_heading level0 col0\" >Room Type</th>        <th class=\"col_heading level0 col1\" >Price</th>        <th class=\"col_heading level0 col2\" >Total Rooms</th>        <th class=\"col_heading level0 col3\" >Per of Room Type</th>    </tr></thead><tbody>\n",
       "                <tr>\n",
       "                        <th id=\"T_6b3ae5c2_0827_11ea_91e5_086d41dd6a90level0_row0\" class=\"row_heading level0 row0\" >0</th>\n",
       "                        <td id=\"T_6b3ae5c2_0827_11ea_91e5_086d41dd6a90row0_col0\" class=\"data row0 col0\" >Entire home/apt</td>\n",
       "                        <td id=\"T_6b3ae5c2_0827_11ea_91e5_086d41dd6a90row0_col1\" class=\"data row0 col1\" >$211.79</td>\n",
       "                        <td id=\"T_6b3ae5c2_0827_11ea_91e5_086d41dd6a90row0_col2\" class=\"data row0 col2\" >25409</td>\n",
       "                        <td id=\"T_6b3ae5c2_0827_11ea_91e5_086d41dd6a90row0_col3\" class=\"data row0 col3\" >51.97%</td>\n",
       "            </tr>\n",
       "            <tr>\n",
       "                        <th id=\"T_6b3ae5c2_0827_11ea_91e5_086d41dd6a90level0_row1\" class=\"row_heading level0 row1\" >1</th>\n",
       "                        <td id=\"T_6b3ae5c2_0827_11ea_91e5_086d41dd6a90row1_col0\" class=\"data row1 col0\" >Private room</td>\n",
       "                        <td id=\"T_6b3ae5c2_0827_11ea_91e5_086d41dd6a90row1_col1\" class=\"data row1 col1\" >$89.78</td>\n",
       "                        <td id=\"T_6b3ae5c2_0827_11ea_91e5_086d41dd6a90row1_col2\" class=\"data row1 col2\" >22326</td>\n",
       "                        <td id=\"T_6b3ae5c2_0827_11ea_91e5_086d41dd6a90row1_col3\" class=\"data row1 col3\" >45.66%</td>\n",
       "            </tr>\n",
       "            <tr>\n",
       "                        <th id=\"T_6b3ae5c2_0827_11ea_91e5_086d41dd6a90level0_row2\" class=\"row_heading level0 row2\" >2</th>\n",
       "                        <td id=\"T_6b3ae5c2_0827_11ea_91e5_086d41dd6a90row2_col0\" class=\"data row2 col0\" >Shared room</td>\n",
       "                        <td id=\"T_6b3ae5c2_0827_11ea_91e5_086d41dd6a90row2_col1\" class=\"data row2 col1\" >$70.13</td>\n",
       "                        <td id=\"T_6b3ae5c2_0827_11ea_91e5_086d41dd6a90row2_col2\" class=\"data row2 col2\" >1160</td>\n",
       "                        <td id=\"T_6b3ae5c2_0827_11ea_91e5_086d41dd6a90row2_col3\" class=\"data row2 col3\" >2.37%</td>\n",
       "            </tr>\n",
       "    </tbody></table>"
      ],
      "text/plain": [
       "<pandas.io.formats.style.Styler at 0x123761f50>"
      ]
     },
     "execution_count": 9,
     "metadata": {},
     "output_type": "execute_result"
    }
   ],
   "source": [
    "# Merge both DataFrames\n",
    "merge_room_type = pd.merge(avrg_price, room_categ, on=\"Room Type\")\n",
    "pd.DataFrame(merge_room_type)\n",
    "merge_room_type.style"
   ]
  },
  {
   "cell_type": "code",
   "execution_count": 10,
   "metadata": {},
   "outputs": [
    {
     "data": {
      "text/html": [
       "<div>\n",
       "<style scoped>\n",
       "    .dataframe tbody tr th:only-of-type {\n",
       "        vertical-align: middle;\n",
       "    }\n",
       "\n",
       "    .dataframe tbody tr th {\n",
       "        vertical-align: top;\n",
       "    }\n",
       "\n",
       "    .dataframe thead th {\n",
       "        text-align: right;\n",
       "    }\n",
       "</style>\n",
       "<table border=\"1\" class=\"dataframe\">\n",
       "  <thead>\n",
       "    <tr style=\"text-align: right;\">\n",
       "      <th></th>\n",
       "      <th>Room Type</th>\n",
       "      <th>Price</th>\n",
       "      <th>Total Rooms</th>\n",
       "      <th>Per of Room Type</th>\n",
       "      <th>Cities</th>\n",
       "    </tr>\n",
       "  </thead>\n",
       "  <tbody>\n",
       "    <tr>\n",
       "      <td>0</td>\n",
       "      <td>Entire home/apt</td>\n",
       "      <td>$211.79</td>\n",
       "      <td>25409</td>\n",
       "      <td>51.97%</td>\n",
       "      <td>Brooklyn</td>\n",
       "    </tr>\n",
       "    <tr>\n",
       "      <td>1</td>\n",
       "      <td>Private room</td>\n",
       "      <td>$89.78</td>\n",
       "      <td>22326</td>\n",
       "      <td>45.66%</td>\n",
       "      <td>Manhattan</td>\n",
       "    </tr>\n",
       "    <tr>\n",
       "      <td>2</td>\n",
       "      <td>Shared room</td>\n",
       "      <td>$70.13</td>\n",
       "      <td>1160</td>\n",
       "      <td>2.37%</td>\n",
       "      <td>Manhattan</td>\n",
       "    </tr>\n",
       "  </tbody>\n",
       "</table>\n",
       "</div>"
      ],
      "text/plain": [
       "         Room Type    Price  Total Rooms Per of Room Type     Cities\n",
       "0  Entire home/apt  $211.79        25409           51.97%   Brooklyn\n",
       "1     Private room   $89.78        22326           45.66%  Manhattan\n",
       "2      Shared room   $70.13         1160            2.37%  Manhattan"
      ]
     },
     "execution_count": 10,
     "metadata": {},
     "output_type": "execute_result"
    }
   ],
   "source": [
    "# Adding Cities column to Data Frame\n",
    "city_list = nyc_airbnb[\"Cities\"]\n",
    "merge_room_type[\"Cities\"] = city_list\n",
    "  \n",
    "# Lock table\n",
    "locked_table = merge_room_type.loc[:, [\"Room Type\", \"Price\", \"Total Rooms\", \"Per of Room Type\", \"Cities\"]]\n",
    "locked_table"
   ]
  },
  {
   "cell_type": "code",
   "execution_count": 11,
   "metadata": {},
   "outputs": [],
   "source": [
    "# Remove $ from Price column - for be able to create the error bar\n",
    "locked_table['Price']=locked_table['Price'].apply(lambda x:float(x.strip('$')))"
   ]
  },
  {
   "cell_type": "code",
   "execution_count": 12,
   "metadata": {},
   "outputs": [
    {
     "data": {
      "text/plain": [
       "<matplotlib.axes._subplots.AxesSubplot at 0x110a35250>"
      ]
     },
     "execution_count": 12,
     "metadata": {},
     "output_type": "execute_result"
    },
    {
     "data": {
      "image/png": "[encoded data removed]",
      "text/plain": [
       "<Figure size 432x288 with 1 Axes>"
      ]
     },
     "metadata": {
      "needs_background": "light"
     },
     "output_type": "display_data"
    }
   ],
   "source": [
    "# Grouping by Cities and Room Type\n",
    "# Setting index by false to see nice Data Frame\n",
    "airbnb_new = locked_table.groupby([\"Cities\", \"Room Type\"],as_index=False)[\"Price\"].mean()\n",
    "\n",
    "# Show Data Frame by index style\n",
    "airbnb_new.style\n",
    "\n",
    "# Show Bar by seaborn (it's will shows you matplotlib errors bar by different color)\n",
    "sns.barplot(airbnb_new[\"Room Type\"], airbnb_new[\"Price\"])"
   ]
  },
  {
   "cell_type": "code",
   "execution_count": 13,
   "metadata": {},
   "outputs": [
    {
     "data": {
      "image/png": "[encoded data removed]",
      "text/plain": [
       "<Figure size 432x288 with 1 Axes>"
      ]
     },
     "metadata": {
      "needs_background": "light"
     },
     "output_type": "display_data"
    }
   ],
   "source": [
    "# Defind y values by price\n",
    "y = airbnb_new[\"Price\"].values\n",
    "\n",
    "# Create plt bar\n",
    "airbnb_bar = plt.bar(airbnb_new[\"Room Type\"],airbnb_new[\"Price\"], color = \"r\")\n",
    "\n",
    "#Creating title \n",
    "plt.title(\"Room Type -vs- Price\")\n",
    "\n",
    "# Set up price by Roofor each bar\n",
    "def autolabel(rects):\n",
    "    for i,rect in enumerate(rects):\n",
    "        plt.text(rect.get_x() + rect.get_width()/2., 2, '$%s'% (y[i]), ha=\"center\", va=\"bottom\", \n",
    "                 color=\"white\", weight=\"bold\")\n",
    "                  \n",
    "\n",
    "autolabel(airbnb_bar)"
   ]
  },
  {
   "cell_type": "code",
   "execution_count": 87,
   "metadata": {},
   "outputs": [
    {
     "data": {
      "image/png": "[encoded data removed]",
      "text/plain": [
       "<Figure size 432x288 with 1 Axes>"
      ]
     },
     "metadata": {
      "needs_background": "light"
     },
     "output_type": "display_data"
    }
   ],
   "source": [
    "# Set price and room type for new DataFrame\n",
    "prices = airbnb_new[\"Price\"].values\n",
    "type_of_r = airbnb_new[\"Room Type\"]\n",
    "\n",
    "# Create new Data Frame\n",
    "data = pd.DataFrame({\"in\": [1,2,3], \"r\": type_of_r, \"p\": prices})\n",
    "\n",
    "# Set 3D projection \n",
    "fig = plt.figure()\n",
    "ax = fig.add_subplot(111, projection='3d')\n",
    "\n",
    "# Show projection\n",
    "ax\n",
    "\n",
    "# Create pivot table\n",
    "piv_tbl = pd.pivot_table(data, values=\"p\", index=\"in\", columns=\"r\")\n",
    "\n",
    "# Set all x, y  for 3D graph\n",
    "xpos = np.arange(piv_tbl.shape[0])\n",
    "ypos = np.arange(piv_tbl.shape[1])\n",
    "xpos, ypos = np.meshgrid(xpos+0.25, ypos+0.25)\n",
    "\n",
    "xpos = xpos.flatten()\n",
    "ypos = ypos.flatten()\n",
    "zpos = np.zeros(piv_tbl.shape).flatten()\n",
    "\n",
    "# Set delta x, y, z\n",
    "dx = 0.5 * np.ones_like(zpos)\n",
    "dy = 0.5 * np.ones_like(zpos)\n",
    "dz = piv_tbl.values.ravel()\n",
    "# Setting \n",
    "dz[np.isnan(dz)] = 0.\n",
    "\n",
    "# Set 3D graph - adding color and shape \n",
    "    # with alpha showing dept(thickness)\n",
    "ax.bar3d(xpos, ypos, zpos, dx, dy, dz, color=\"c\", alpha=0.9)\n",
    "\n",
    "\n",
    "ax.set_xticks([.5, 1.5, 2.5])\n",
    "ax.set_yticks([1.5, 2.5, 3.5])\n",
    "\n",
    "# Set index and columns of graph\n",
    "ax.w_xaxis.set_ticklabels(piv_tbl.index)\n",
    "ax.w_yaxis.set_ticklabels(piv_tbl.columns, rotation=6)\n",
    "\n",
    "# Set grid colors and linestyle\n",
    "    #ax.zaxis._axinfo[\"grid\"]['color'] = \"c\"\n",
    "    #ax.zaxis._axinfo[\"grid\"]['linestyle'] = \"-\"\n",
    "\n",
    "# Formating for label and tight\n",
    "fig.tight_layout()\n",
    "ax.set_zlabel(\"Price\")\n",
    "\n",
    "# Show 3D histogram\n",
    "plt.show()"
   ]
  },
  {
   "cell_type": "code",
   "execution_count": null,
   "metadata": {},
   "outputs": [],
   "source": []
  }
 ],
 "metadata": {
  "kernelspec": {
   "display_name": "Python 3",
   "language": "python",
   "name": "python3"
  },
  "language_info": {
   "codemirror_mode": {
    "name": "ipython",
    "version": 3
   },
   "file_extension": ".py",
   "mimetype": "text/x-python",
   "name": "python",
   "nbconvert_exporter": "python",
   "pygments_lexer": "ipython3",
   "version": "3.7.4"
  }
 },
 "nbformat": 4,
 "nbformat_minor": 2
}
